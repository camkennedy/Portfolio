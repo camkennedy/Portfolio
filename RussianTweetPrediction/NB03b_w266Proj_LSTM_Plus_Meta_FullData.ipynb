{
 "cells": [
  {
   "cell_type": "markdown",
   "metadata": {},
   "source": [
    "# W266 Russian Troll Detection Project\n",
    "\n",
    "# LSTM Notebook, Including Metadata\n",
    "\n",
    "## Quick Status:  Tweet and User Metadata Incorporated; Variable Length LSTM enabled\n",
    "\n",
    "This notebook takes the output of our Pre-Processing work (embedded tweet texts and metadata, see other notebooks) and runs it through an LSTM."
   ]
  },
  {
   "cell_type": "code",
   "execution_count": 1,
   "metadata": {
    "collapsed": false
   },
   "outputs": [
    {
     "name": "stdout",
     "output_type": "stream",
     "text": [
      "MemTotal:       16436316 kB\r\n",
      "MemFree:        16028876 kB\r\n",
      "MemAvailable:   15939584 kB\r\n"
     ]
    }
   ],
   "source": [
    "!cat /proc/meminfo | grep Mem"
   ]
  },
  {
   "cell_type": "code",
   "execution_count": 2,
   "metadata": {
    "collapsed": false
   },
   "outputs": [
    {
     "name": "stderr",
     "output_type": "stream",
     "text": [
      "/home/brandon_cummings/.local/lib/python3.5/site-packages/requests/__init__.py:83: RequestsDependencyWarning: Old version of cryptography ([1, 3]) may cause slowdown.\n",
      "  warnings.warn(warning, RequestsDependencyWarning)\n"
     ]
    }
   ],
   "source": [
    "#Main Libraries\n",
    "import numpy as np\n",
    "from random import (shuffle, getstate, setstate)\n",
    "import tensorflow as tf\n",
    "import pandas as pd  \n",
    "from sklearn.datasets import fetch_mldata\n",
    "from sklearn.preprocessing import (OneHotEncoder, StandardScaler)\n",
    "import pickle\n",
    "import sys\n",
    "\n",
    "import timeit  #For timing\n",
    "\n",
    "#Accuracy reporting / plotting\n",
    "from sklearn.metrics import (confusion_matrix, classification_report, roc_auc_score)\n",
    "import itertools\n",
    "from collections import (defaultdict, OrderedDict)\n",
    "from operator import itemgetter"
   ]
  },
  {
   "cell_type": "code",
   "execution_count": 3,
   "metadata": {
    "collapsed": true
   },
   "outputs": [],
   "source": [
    "#Plotting (re-running this cell causes long errors)\n",
    "import matplotlib as mpl\n",
    "mpl.use('Agg')  #Necessary to prevent display errors\n",
    "import matplotlib.pyplot as plt\n",
    "import seaborn as sns\n",
    "%matplotlib inline\n",
    "\n",
    "pd.options.display.max_columns = 50"
   ]
  },
  {
   "cell_type": "markdown",
   "metadata": {},
   "source": [
    "## Load and Shuffle Data"
   ]
  },
  {
   "cell_type": "code",
   "execution_count": 4,
   "metadata": {
    "collapsed": false
   },
   "outputs": [
    {
     "name": "stdout",
     "output_type": "stream",
     "text": [
      "Text Loaded!\n",
      "Tokens Loaded!\n",
      "Metadata Loaded!\n",
      "Target Data Loaded!\n",
      "Other Data Loaded!\n",
      "Data Loading Complete!\n"
     ]
    }
   ],
   "source": [
    "#Load Data\n",
    "#text_list\n",
    "with open('data/text.pkl', 'rb') as fp:\n",
    "    text_list = pickle.load(fp)\n",
    "print('Text Loaded!')\n",
    "\n",
    "#token_list\n",
    "with open('data/token.pkl', 'rb') as fp:\n",
    "    token_list = pickle.load(fp)\n",
    "print('Tokens Loaded!')\n",
    "\n",
    "#arr_metadata\n",
    "arr_metadata = np.load('data/arr_metadata.npy')\n",
    "print('Metadata Loaded!')\n",
    "\n",
    "#arr_targetdata\n",
    "arr_targetdata = np.load('data/arr_targetdata.npy')\n",
    "print('Target Data Loaded!')\n",
    "\n",
    "#arr_otherdata\n",
    "arr_otherdata = np.load('data/arr_otherdata.npy')\n",
    "print('Other Data Loaded!')\n",
    "print('Data Loading Complete!')"
   ]
  },
  {
   "cell_type": "code",
   "execution_count": 5,
   "metadata": {
    "collapsed": false
   },
   "outputs": [
    {
     "name": "stdout",
     "output_type": "stream",
     "text": [
      "2991009\n",
      "2991009\n",
      "2991009\n",
      "2991009\n",
      "2991009\n"
     ]
    }
   ],
   "source": [
    "#Verify Lists are the same Length\n",
    "print(len(text_list))\n",
    "print(len(token_list))\n",
    "print(len(arr_metadata))\n",
    "print(len(arr_targetdata))\n",
    "print(len(arr_otherdata))\n",
    "\n",
    "assert len(text_list) == len(token_list)\n",
    "assert len(text_list) == len(arr_metadata)\n",
    "assert len(text_list) == len(arr_targetdata)\n",
    "assert len(text_list) == len(arr_otherdata)"
   ]
  },
  {
   "cell_type": "code",
   "execution_count": 6,
   "metadata": {
    "collapsed": false
   },
   "outputs": [
    {
     "name": "stdout",
     "output_type": "stream",
     "text": [
      "203482\n"
     ]
    },
    {
     "data": {
      "text/plain": [
       "(2991009, 1)"
      ]
     },
     "execution_count": 6,
     "metadata": {},
     "output_type": "execute_result"
    }
   ],
   "source": [
    "arr_targetdata[(arr_targetdata!=0) & (arr_targetdata!=1)]\n",
    "print(sum(arr_targetdata[(arr_targetdata!=0) & (arr_targetdata!=0)]))\n",
    "\n",
    "arr_targetdata.shape"
   ]
  },
  {
   "cell_type": "code",
   "execution_count": 7,
   "metadata": {
    "collapsed": true
   },
   "outputs": [],
   "source": [
    "def shuffle_list(*ls):\n",
    "    l = list(zip(*ls))\n",
    "    shuffle(l)\n",
    "    return zip(*l)"
   ]
  },
  {
   "cell_type": "code",
   "execution_count": 8,
   "metadata": {
    "collapsed": false
   },
   "outputs": [
    {
     "name": "stdout",
     "output_type": "stream",
     "text": [
      "(3, 9, 7, 8, 4, 6, 1, 5, 2)\n",
      "(13, 19, 17, 18, 14, 16, 11, 15, 12)\n",
      "(23, 29, 27, 28, 24, 26, 21, 25, 22)\n",
      "(33, 39, 37, 38, 34, 36, 31, 35, 32)\n",
      "(43, 49, 47, 48, 44, 46, 41, 45, 42)\n"
     ]
    }
   ],
   "source": [
    "a = [1,2,3,4,5,6,7,8,9]\n",
    "b = [i+10 for i in a]\n",
    "c = np.array([i+10 for i in b])\n",
    "d = [i+10 for i in c]\n",
    "e = np.array([i+10 for i in d])\n",
    "\n",
    "a,b,c,d,e = shuffle_list(a,b,c,d,e)\n",
    "print(a) # [9, 7, 3, 1, 2, 5, 4, 8, 6]\n",
    "print(b) # [19, 17, 13, 11, 12, 15, 14, 18, 16]\n",
    "print(c)\n",
    "print(d)\n",
    "print(e)"
   ]
  },
  {
   "cell_type": "code",
   "execution_count": 9,
   "metadata": {
    "collapsed": true
   },
   "outputs": [],
   "source": [
    "#Execute shuffle\n",
    "text_list, token_list, arr_metadata, arr_targetdata, arr_otherdata = \\\n",
    "    shuffle_list(text_list, token_list, arr_metadata, arr_targetdata, arr_otherdata)\n",
    "\n",
    "#Convert from tuples back to lists / arrays\n",
    "text_list = list(text_list)\n",
    "token_list = list(token_list)\n",
    "arr_metadata = np.array(arr_metadata)\n",
    "arr_targetdata = np.array(arr_targetdata)\n",
    "arr_otherdata = np.array(arr_otherdata)"
   ]
  },
  {
   "cell_type": "code",
   "execution_count": 10,
   "metadata": {
    "collapsed": false
   },
   "outputs": [
    {
     "data": {
      "text/plain": [
       "203482"
      ]
     },
     "execution_count": 10,
     "metadata": {},
     "output_type": "execute_result"
    }
   ],
   "source": [
    "arr_targetdata[(arr_targetdata!=0) & (arr_targetdata!=1)]\n",
    "sum(arr_targetdata[(arr_targetdata!=0) & (arr_targetdata!=0)])"
   ]
  },
  {
   "cell_type": "markdown",
   "metadata": {},
   "source": [
    "### Generate Sequence Lengths and Remove Zero-Length Data"
   ]
  },
  {
   "cell_type": "code",
   "execution_count": 15,
   "metadata": {
    "collapsed": false
   },
   "outputs": [
    {
     "name": "stdout",
     "output_type": "stream",
     "text": [
      "Cutoff Percentile:  99.5\n",
      "Cutoff Length:  40\n",
      "Shape Before: (2991009, 10)\n",
      "Shape After: (2991009, 11)\n"
     ]
    }
   ],
   "source": [
    "#Generate Sequence Lengths\n",
    "sequence_lens = np.array([len(item) for item in token_list])\n",
    "\n",
    "#Generate cutoff_length based on high-percentile\n",
    "cutoff_percentile = 99.5\n",
    "print('Cutoff Percentile: ', cutoff_percentile)\n",
    "cutoff_length = int(np.percentile(sequence_lens, cutoff_percentile))\n",
    "print('Cutoff Length: ', cutoff_length)\n",
    "\n",
    "#Tack Sequence Lengths onto Metadata\n",
    "print('Shape Before:', arr_metadata.shape)\n",
    "arr_metadata = np.hstack((arr_metadata, np.expand_dims(sequence_lens, axis=1)))\n",
    "print('Shape After:', arr_metadata.shape)"
   ]
  },
  {
   "cell_type": "code",
   "execution_count": 16,
   "metadata": {
    "collapsed": false
   },
   "outputs": [
    {
     "name": "stdout",
     "output_type": "stream",
     "text": [
      "22\n",
      "(array([  56182,  184736,  188023,  195724,  756849,  813768, 1075936,\n",
      "       1092059, 1171441, 1426660, 1446008, 1477339, 1587907, 1625214,\n",
      "       1704613, 1916096, 2046779, 2305266, 2428844, 2819755, 2826614,\n",
      "       2941760]),)\n"
     ]
    }
   ],
   "source": [
    "#Remove any zero-length tweets from all data\n",
    "print(sum(1 for x in sequence_lens if x == 0))\n",
    "zero_idxs = np.where(sequence_lens==0)\n",
    "print(zero_idxs)"
   ]
  },
  {
   "cell_type": "code",
   "execution_count": 17,
   "metadata": {
    "collapsed": false
   },
   "outputs": [
    {
     "name": "stdout",
     "output_type": "stream",
     "text": [
      "2990987\n",
      "2990987\n",
      "2990987\n",
      "2990987\n",
      "2990987\n",
      "2990987\n"
     ]
    }
   ],
   "source": [
    "#Remove 0 length items\n",
    "text_list = np.delete(text_list, zero_idxs, axis=0).tolist()\n",
    "token_list = np.delete(token_list, zero_idxs, axis=0).tolist()\n",
    "sequence_lens = np.delete(sequence_lens, zero_idxs, axis=0)\n",
    "arr_metadata = np.delete(arr_metadata, zero_idxs, axis=0)\n",
    "arr_targetdata = np.delete(arr_targetdata, zero_idxs, axis=0)\n",
    "arr_otherdata = np.delete(arr_otherdata, zero_idxs, axis=0)\n",
    "\n",
    "#Validate lengths\n",
    "print(len(text_list))\n",
    "print(len(token_list))\n",
    "print(len(arr_metadata))\n",
    "print(len(arr_targetdata))\n",
    "print(len(arr_otherdata))\n",
    "print(len(sequence_lens))\n",
    "\n",
    "assert len(text_list) == len(token_list)\n",
    "assert len(text_list) == len(arr_metadata)\n",
    "assert len(text_list) == len(arr_targetdata)\n",
    "assert len(text_list) == len(arr_otherdata)\n",
    "assert len(text_list) == len(sequence_lens)"
   ]
  },
  {
   "cell_type": "markdown",
   "metadata": {},
   "source": [
    "## Load GloVe Embeddings"
   ]
  },
  {
   "cell_type": "code",
   "execution_count": 18,
   "metadata": {
    "collapsed": true
   },
   "outputs": [],
   "source": [
    "def loadGloveModel(gloveFile):\n",
    "    print(\"Loading Glove Model\")\n",
    "    f = open(gloveFile, 'r', encoding='utf-8')\n",
    "    model = {}\n",
    "    status_every = 100000\n",
    "    \n",
    "    for i, line in enumerate(f):\n",
    "        if i%status_every == 0:\n",
    "            print('Processing line {:,}'.format(i))\n",
    "        splitLine = line.split()\n",
    "        word = splitLine[0]\n",
    "        embedding = np.array([float(val) for val in splitLine[1:]])\n",
    "        model[word] = embedding\n",
    "    print(\"Done.\",'{:,}'.format(len(model)),\" words loaded!\")\n",
    "    return model"
   ]
  },
  {
   "cell_type": "code",
   "execution_count": 19,
   "metadata": {
    "collapsed": false
   },
   "outputs": [
    {
     "name": "stdout",
     "output_type": "stream",
     "text": [
      "Loading Glove Model\n",
      "Processing line 0\n",
      "Processing line 100,000\n",
      "Processing line 200,000\n",
      "Processing line 300,000\n",
      "Processing line 400,000\n",
      "Processing line 500,000\n",
      "Processing line 600,000\n",
      "Processing line 700,000\n",
      "Processing line 800,000\n",
      "Processing line 900,000\n",
      "Processing line 1,000,000\n",
      "Processing line 1,100,000\n",
      "Done. 1,193,514  words loaded!\n",
      "\n",
      "Dict Size: 50,331,744 bytes\n",
      "DefaultDict Size: 100,663,392 bytes\n"
     ]
    }
   ],
   "source": [
    "#Load the GloVE model into a defaultdict\n",
    "\n",
    "glove_dir = './data/GLoVE/'\n",
    "glove_filename = 'glove.twitter.27B.50d.txt'\n",
    "glove_fullpath = glove_dir + glove_filename\n",
    "glove_dd = loadGloveModel(glove_fullpath)\n",
    "\n",
    "#Converts to a default dict\n",
    "#Returns the embedding for 'unk' if unknown word found \n",
    "print('\\nDict Size: {:,} bytes'.format(sys.getsizeof(glove_dd)))\n",
    "glove_dd = defaultdict(lambda: glove_dd['unk'], glove_dd)\n",
    "print('DefaultDict Size: {:,} bytes'.format(sys.getsizeof(glove_dd)))"
   ]
  },
  {
   "cell_type": "code",
   "execution_count": 20,
   "metadata": {
    "collapsed": false
   },
   "outputs": [
    {
     "data": {
      "text/plain": [
       "40"
      ]
     },
     "execution_count": 20,
     "metadata": {},
     "output_type": "execute_result"
    }
   ],
   "source": [
    "cutoff_length"
   ]
  },
  {
   "cell_type": "code",
   "execution_count": 21,
   "metadata": {
    "collapsed": true
   },
   "outputs": [],
   "source": [
    "#Create batch of embeddings\n",
    "#Output should be size [input, 40, 50]\n",
    "\n",
    "def embed_batch(list_token_lists):\n",
    "    batch = np.zeros([len(list_token_lists), cutoff_length, 50], dtype=np.float32)\n",
    "    for i, cantok_tweet in enumerate(list_token_lists):\n",
    "        embed_tweet = np.array([glove_dd[word] for word in cantok_tweet]).astype(np.float32)\n",
    "        if cutoff_length > len(embed_tweet):\n",
    "            batch[i][0:len(embed_tweet)] = embed_tweet\n",
    "\n",
    "### Alternate method using np.pad            \n",
    "#             batch[i] = np.pad(embed_tweet, \n",
    "#                               ((0, cutoff_length - len(embed_tweet)),\n",
    "#                                (0, 0)),\n",
    "#                               'constant',\n",
    "#                               constant_values=(0.0)\n",
    "#                              )\n",
    "\n",
    "        else:\n",
    "            batch[i] = embed_tweet[0:cutoff_length]\n",
    "            \n",
    "    return batch"
   ]
  },
  {
   "cell_type": "code",
   "execution_count": 22,
   "metadata": {
    "collapsed": false
   },
   "outputs": [
    {
     "name": "stdout",
     "output_type": "stream",
     "text": [
      "(500, 40, 50)\n"
     ]
    },
    {
     "data": {
      "text/plain": [
       "array([[[ 0.13201 ,  0.69718 ,  0.23005 , ..., -0.08455 , -0.20423 ,\n",
       "          1.1281  ],\n",
       "        [ 0.70057 ,  1.2429  ,  0.14358 , ...,  0.55525 ,  0.32614 ,\n",
       "          0.030969],\n",
       "        [-0.13237 ,  0.57227 , -0.31771 , ..., -0.28038 ,  0.53726 ,\n",
       "         -0.26194 ],\n",
       "        ...,\n",
       "        [ 0.      ,  0.      ,  0.      , ...,  0.      ,  0.      ,\n",
       "          0.      ],\n",
       "        [ 0.      ,  0.      ,  0.      , ...,  0.      ,  0.      ,\n",
       "          0.      ],\n",
       "        [ 0.      ,  0.      ,  0.      , ...,  0.      ,  0.      ,\n",
       "          0.      ]],\n",
       "\n",
       "       [[ 0.68243 ,  0.73589 ,  0.017529, ...,  0.14771 ,  0.080503,\n",
       "         -0.68115 ],\n",
       "        [ 1.1266  , -0.61616 , -0.70097 , ..., -0.77549 , -0.71455 ,\n",
       "         -0.49903 ],\n",
       "        [ 0.78704 ,  0.72151 ,  0.29148 , ...,  0.080107, -0.075323,\n",
       "         -0.61461 ],\n",
       "        ...,\n",
       "        [ 0.      ,  0.      ,  0.      , ...,  0.      ,  0.      ,\n",
       "          0.      ],\n",
       "        [ 0.      ,  0.      ,  0.      , ...,  0.      ,  0.      ,\n",
       "          0.      ],\n",
       "        [ 0.      ,  0.      ,  0.      , ...,  0.      ,  0.      ,\n",
       "          0.      ]],\n",
       "\n",
       "       [[ 0.78704 ,  0.72151 ,  0.29148 , ...,  0.080107, -0.075323,\n",
       "         -0.61461 ],\n",
       "        [ 0.10815 , -0.055369,  0.11773 , ...,  0.66231 , -0.16433 ,\n",
       "          0.66375 ],\n",
       "        [ 0.74118 ,  0.027413, -0.19729 , ...,  0.24888 ,  0.44528 ,\n",
       "          0.17249 ],\n",
       "        ...,\n",
       "        [ 0.      ,  0.      ,  0.      , ...,  0.      ,  0.      ,\n",
       "          0.      ],\n",
       "        [ 0.      ,  0.      ,  0.      , ...,  0.      ,  0.      ,\n",
       "          0.      ],\n",
       "        [ 0.      ,  0.      ,  0.      , ...,  0.      ,  0.      ,\n",
       "          0.      ]],\n",
       "\n",
       "       ...,\n",
       "\n",
       "       [[ 0.68243 ,  0.73589 ,  0.017529, ...,  0.14771 ,  0.080503,\n",
       "         -0.68115 ],\n",
       "        [ 1.1266  , -0.61616 , -0.70097 , ..., -0.77549 , -0.71455 ,\n",
       "         -0.49903 ],\n",
       "        [ 0.78704 ,  0.72151 ,  0.29148 , ...,  0.080107, -0.075323,\n",
       "         -0.61461 ],\n",
       "        ...,\n",
       "        [ 0.      ,  0.      ,  0.      , ...,  0.      ,  0.      ,\n",
       "          0.      ],\n",
       "        [ 0.      ,  0.      ,  0.      , ...,  0.      ,  0.      ,\n",
       "          0.      ],\n",
       "        [ 0.      ,  0.      ,  0.      , ...,  0.      ,  0.      ,\n",
       "          0.      ]],\n",
       "\n",
       "       [[ 0.68243 ,  0.73589 ,  0.017529, ...,  0.14771 ,  0.080503,\n",
       "         -0.68115 ],\n",
       "        [ 1.1266  , -0.61616 , -0.70097 , ..., -0.77549 , -0.71455 ,\n",
       "         -0.49903 ],\n",
       "        [ 0.78704 ,  0.72151 ,  0.29148 , ...,  0.080107, -0.075323,\n",
       "         -0.61461 ],\n",
       "        ...,\n",
       "        [-0.34293 , -0.011365,  0.39533 , ..., -0.49016 ,  0.88049 ,\n",
       "          2.0147  ],\n",
       "        [ 1.0171  , -0.74447 ,  0.39636 , ..., -0.55897 , -1.522   ,\n",
       "         -0.11471 ],\n",
       "        [ 0.      ,  0.      ,  0.      , ...,  0.      ,  0.      ,\n",
       "          0.      ]],\n",
       "\n",
       "       [[ 0.68243 ,  0.73589 ,  0.017529, ...,  0.14771 ,  0.080503,\n",
       "         -0.68115 ],\n",
       "        [ 1.1266  , -0.61616 , -0.70097 , ..., -0.77549 , -0.71455 ,\n",
       "         -0.49903 ],\n",
       "        [ 0.78704 ,  0.72151 ,  0.29148 , ...,  0.080107, -0.075323,\n",
       "         -0.61461 ],\n",
       "        ...,\n",
       "        [ 0.      ,  0.      ,  0.      , ...,  0.      ,  0.      ,\n",
       "          0.      ],\n",
       "        [ 0.      ,  0.      ,  0.      , ...,  0.      ,  0.      ,\n",
       "          0.      ],\n",
       "        [ 0.      ,  0.      ,  0.      , ...,  0.      ,  0.      ,\n",
       "          0.      ]]], dtype=float32)"
      ]
     },
     "execution_count": 22,
     "metadata": {},
     "output_type": "execute_result"
    }
   ],
   "source": [
    "#Test our batch\n",
    "test_eb = embed_batch(token_list[0:500])\n",
    "print(test_eb.shape)\n",
    "test_eb"
   ]
  },
  {
   "cell_type": "markdown",
   "metadata": {},
   "source": [
    "## Convert labels to One Hot"
   ]
  },
  {
   "cell_type": "code",
   "execution_count": 23,
   "metadata": {
    "collapsed": false
   },
   "outputs": [
    {
     "name": "stdout",
     "output_type": "stream",
     "text": [
      "Label shape (original): (2990987, 1)\n",
      "Label shape (one hot): (2990987, 2)\n"
     ]
    },
    {
     "data": {
      "text/plain": [
       "array([[1, 0],\n",
       "       [0, 1],\n",
       "       [1, 0],\n",
       "       ...,\n",
       "       [1, 0],\n",
       "       [1, 0],\n",
       "       [1, 0]], dtype=uint8)"
      ]
     },
     "execution_count": 23,
     "metadata": {},
     "output_type": "execute_result"
    }
   ],
   "source": [
    "#Convert labels to One Hot\n",
    "targ_hot = np.array(pd.get_dummies(np.squeeze(arr_targetdata, axis=1)))\n",
    "\n",
    "print('Label shape (original):', arr_targetdata.shape)\n",
    "print('Label shape (one hot):', targ_hot.shape)\n",
    "targ_hot.view()\n",
    "\n",
    "#Recall ...\n",
    "#[1, 0] = Genuine\n",
    "#[0, 1] = Troll"
   ]
  },
  {
   "cell_type": "markdown",
   "metadata": {},
   "source": [
    "## Select Metadata Columns and Scale"
   ]
  },
  {
   "cell_type": "code",
   "execution_count": 24,
   "metadata": {
    "collapsed": false
   },
   "outputs": [
    {
     "data": {
      "text/plain": [
       "array([11., 11.,  3., ...,  4.,  9.,  5.])"
      ]
     },
     "execution_count": 24,
     "metadata": {},
     "output_type": "execute_result"
    }
   ],
   "source": [
    "arr_metadata[:,10]"
   ]
  },
  {
   "cell_type": "code",
   "execution_count": 25,
   "metadata": {
    "collapsed": false
   },
   "outputs": [
    {
     "data": {
      "text/html": [
       "<div>\n",
       "<style scoped>\n",
       "    .dataframe tbody tr th:only-of-type {\n",
       "        vertical-align: middle;\n",
       "    }\n",
       "\n",
       "    .dataframe tbody tr th {\n",
       "        vertical-align: top;\n",
       "    }\n",
       "\n",
       "    .dataframe thead th {\n",
       "        text-align: right;\n",
       "    }\n",
       "</style>\n",
       "<table border=\"1\" class=\"dataframe\">\n",
       "  <thead>\n",
       "    <tr style=\"text-align: right;\">\n",
       "      <th></th>\n",
       "      <th>col5</th>\n",
       "      <th>col6</th>\n",
       "      <th>col7</th>\n",
       "      <th>col8</th>\n",
       "      <th>target</th>\n",
       "    </tr>\n",
       "  </thead>\n",
       "  <tbody>\n",
       "    <tr>\n",
       "      <th>0</th>\n",
       "      <td>10189.0</td>\n",
       "      <td>160.0</td>\n",
       "      <td>143.0</td>\n",
       "      <td>110.0</td>\n",
       "      <td>0</td>\n",
       "    </tr>\n",
       "    <tr>\n",
       "      <th>1</th>\n",
       "      <td>1946.0</td>\n",
       "      <td>1073.0</td>\n",
       "      <td>1160.0</td>\n",
       "      <td>1933.0</td>\n",
       "      <td>1</td>\n",
       "    </tr>\n",
       "    <tr>\n",
       "      <th>2</th>\n",
       "      <td>13635.0</td>\n",
       "      <td>665.0</td>\n",
       "      <td>1168.0</td>\n",
       "      <td>4724.0</td>\n",
       "      <td>0</td>\n",
       "    </tr>\n",
       "    <tr>\n",
       "      <th>3</th>\n",
       "      <td>78147.0</td>\n",
       "      <td>1059.0</td>\n",
       "      <td>713.0</td>\n",
       "      <td>880.0</td>\n",
       "      <td>0</td>\n",
       "    </tr>\n",
       "    <tr>\n",
       "      <th>4</th>\n",
       "      <td>3717.0</td>\n",
       "      <td>255.0</td>\n",
       "      <td>225.0</td>\n",
       "      <td>3432.0</td>\n",
       "      <td>0</td>\n",
       "    </tr>\n",
       "  </tbody>\n",
       "</table>\n",
       "</div>"
      ],
      "text/plain": [
       "      col5    col6    col7    col8  target\n",
       "0  10189.0   160.0   143.0   110.0       0\n",
       "1   1946.0  1073.0  1160.0  1933.0       1\n",
       "2  13635.0   665.0  1168.0  4724.0       0\n",
       "3  78147.0  1059.0   713.0   880.0       0\n",
       "4   3717.0   255.0   225.0  3432.0       0"
      ]
     },
     "execution_count": 25,
     "metadata": {},
     "output_type": "execute_result"
    }
   ],
   "source": [
    "df = pd.DataFrame(data = {'col5': arr_metadata[:,5],\n",
    "                          'col6': arr_metadata[:,6],\n",
    "                          'col7': arr_metadata[:,7],\n",
    "                          'col8': arr_metadata[:,8],\n",
    "                          'target': np.squeeze(arr_targetdata, axis=1),\n",
    "                    })\n",
    "\n",
    "df.head()"
   ]
  },
  {
   "cell_type": "code",
   "execution_count": 26,
   "metadata": {
    "collapsed": false
   },
   "outputs": [
    {
     "name": "stdout",
     "output_type": "stream",
     "text": [
      "598196\n"
     ]
    }
   ],
   "source": [
    "value_cols = ['col5', 'col6', 'col7', 'col8']\n",
    "plot_data = pd.melt(df.sample(frac=0.05), id_vars=['target'], value_vars=value_cols)\n",
    "plot_data.head()\n",
    "print(len(plot_data))"
   ]
  },
  {
   "cell_type": "code",
   "execution_count": 27,
   "metadata": {
    "collapsed": false
   },
   "outputs": [
    {
     "data": {
      "image/png": "[encoded data removed]",
      "text/plain": [
       "<Figure size 1000x1000 with 1 Axes>"
      ]
     },
     "metadata": {},
     "output_type": "display_data"
    }
   ],
   "source": [
    "#Verify Metadata Columns with Graph:\n",
    "sns.set(font_scale=2)\n",
    "fig, ax = plt.subplots(figsize=(10,10))\n",
    "sns.boxplot(x='variable', y='value', hue='target', data=plot_data, palette=['#2bb179', '#be0119'])\n",
    "plt.ylim(0, 30000)\n",
    "ax.set_title('Distribution of Dominant Metadata by Class')\n",
    "ax.set_xlabel('Metadata Variable')\n",
    "ax.set_xticklabels(value_cols)\n",
    "ax.set_ylabel('Value')\n",
    "ax.yaxis.set_major_formatter(mpl.ticker.StrMethodFormatter('{x:,.0f}'))\n",
    "#ax.legend(labels=[\"A\",\"B\"])\n",
    "L=plt.legend()\n",
    "L.get_texts()[0].set_text('Genuine')\n",
    "L.get_texts()[1].set_text('Troll')\n",
    "sns.set(font_scale=1)\n",
    "\n",
    "#Conclusion:  Yes, this plot verifies columns 5, 6, 7, and 8 are the correct columns to remove\n",
    "#because their boxplots shapes are the same as those from the chart in the Exploration notebook."
   ]
  },
  {
   "cell_type": "code",
   "execution_count": 28,
   "metadata": {
    "collapsed": false
   },
   "outputs": [
    {
     "name": "stdout",
     "output_type": "stream",
     "text": [
      "(2990987, 7)\n",
      "7\n"
     ]
    },
    {
     "data": {
      "text/plain": [
       "array([[-0.04913827, -0.02927504,  2.23807761, ...,  0.29744285,\n",
       "        -0.18353623, -0.43800918],\n",
       "       [-0.04920022, -0.02927504, -0.35186432, ..., -0.84444135,\n",
       "        -0.12139104, -0.43800918],\n",
       "       [-0.04920022, -0.02927504, -0.35186432, ...,  0.29744285,\n",
       "        -0.11183024, -1.29891315],\n",
       "       ...,\n",
       "       [-0.04920022, -0.02927504, -0.35186432, ...,  0.29744285,\n",
       "         1.31272873, -1.19130015],\n",
       "       [-0.04907633,  0.02292522, -0.35186432, ..., -0.84444135,\n",
       "        -0.18831663, -0.65323517],\n",
       "       [-0.04920022, -0.02927504, -0.35186432, ...,  0.29744285,\n",
       "        -0.14529303, -1.08368716]])"
      ]
     },
     "execution_count": 28,
     "metadata": {},
     "output_type": "execute_result"
    }
   ],
   "source": [
    "#Remove some metadata columns (optional)\n",
    "\n",
    "#For reference, if we want to remove columns, here is their order:\n",
    "\n",
    "#Tweet Level\n",
    "#0. retweet_count\n",
    "#1. favorite_count\n",
    "#2. num_hashtags\n",
    "#3. num_urls\n",
    "#4. num_mentions\n",
    "\n",
    "#User Level\n",
    "#5. statuses_count\n",
    "#6. followers_count\n",
    "#7. friends_count\n",
    "#8. favourites_count\n",
    "#9. listed_count\n",
    "\n",
    "#Tweet Level (calculated)\n",
    "#10. seq_len_cantok\n",
    "\n",
    "remove_meta_cols = True\n",
    "cols_to_remove = np.array([5, 6, 7, 8])\n",
    "if remove_meta_cols:\n",
    "    arr_metadata = np.delete(arr_metadata, obj=cols_to_remove, axis=1)\n",
    "\n",
    "#Scale metadata columns\n",
    "metadata = StandardScaler().fit_transform(arr_metadata)\n",
    "meta_dim = metadata.shape[1]\n",
    "print(metadata.shape)\n",
    "print(meta_dim)\n",
    "metadata"
   ]
  },
  {
   "cell_type": "code",
   "execution_count": 29,
   "metadata": {
    "collapsed": false
   },
   "outputs": [
    {
     "data": {
      "text/plain": [
       "7"
      ]
     },
     "execution_count": 29,
     "metadata": {},
     "output_type": "execute_result"
    }
   ],
   "source": [
    "meta_dim"
   ]
  },
  {
   "cell_type": "markdown",
   "metadata": {},
   "source": [
    "## TensorFlow !\n",
    "\n",
    "First, we'll build our model:"
   ]
  },
  {
   "cell_type": "code",
   "execution_count": 30,
   "metadata": {
    "collapsed": false
   },
   "outputs": [],
   "source": [
    "#Design the TF Model\n",
    "tf.reset_default_graph() # fixes our reuse of variables problem\n",
    "\n",
    "#Cutoffs for train, dev, test splits\n",
    "2990987\n",
    "cutoff_train_dev = 2900000\n",
    "cutoff_dev_test = 2920000\n",
    "cutoff_test_end = None\n",
    "truncate_test_data = True  #Useful to keep data size small for testing\n",
    "if truncate_test_data:\n",
    "    cutoff_test_end = 2940000\n",
    "    \n",
    "#Model parameters\n",
    "epoch = 20  #Pretty good after 10 (with batch size = 500)\n",
    "batch_size = 10000\n",
    "lrn_rate = 0.001  #Default is 0.001\n",
    "ep = 1e-08  #Default is 1e-08\n",
    "hidden_lstm_size = 32     #Research paper was 32\n",
    "hidden_meta_h1_size = 128 #Research paper was 128\n",
    "hidden_meta_h2_size = 64  #Research paper was 64\n",
    "\n",
    "\n",
    "#Model inputs\n",
    "data = tf.placeholder(tf.float32, [None, cutoff_length, 50])  #[batch_size, max_seq_length, num_features]\n",
    "target = tf.placeholder(tf.float32, [None, 2])    #[batch_size, output_length = num_classes]\n",
    "meta = tf.placeholder(tf.float32, [None, meta_dim])    #[batch_size, meta_dim]\n",
    "\n",
    "#BEFORE: data [bs, 27, 50] --> LSTM [bs, 34] --> Softmax [bs, 2]\n",
    "#AFTER:  data [bs, 27, 50] --> LSTM [bs, 34] --> meta [bs, 34+meta_dim] --> Softmax [bs, 2]\n",
    "\n",
    "#LSTM Layer\n",
    "seq_lens = tf.placeholder(tf.int32, [None])  #[batch_size]  #Sequence Lengths\n",
    "cell = tf.nn.rnn_cell.LSTMCell(hidden_lstm_size,state_is_tuple=True)\n",
    "val, state = tf.nn.dynamic_rnn(cell, data, sequence_length=seq_lens, dtype=tf.float32)\n",
    "\n",
    "#Append metadata to LSTM end state (last) vector\n",
    "#Remember, 'meta' is the tensor name, 'metadata' is the actual data we supply to feed_dict (when we execute below)\n",
    "use_meta = True\n",
    "if use_meta:\n",
    "    meta_last = tf.concat([state[1], meta], axis=1)\n",
    "else:\n",
    "    meta_last = state[1]\n",
    "    meta_dim = 0\n",
    "\n",
    "#Post-LSTM Hidden Layer 1\n",
    "weight_meta_h1 = tf.Variable(tf.truncated_normal([hidden_lstm_size + meta_dim, hidden_meta_h1_size]))  #[bs, 34+meta_dim, h1]\n",
    "bias_meta_h1 = tf.Variable(tf.constant(0.1, shape=[hidden_meta_h1_size]))  #[bs, h1]\n",
    "x_meta_h1 = tf.nn.relu(tf.matmul(meta_last, weight_meta_h1) + bias_meta_h1)\n",
    "\n",
    "#Post-LSTM Hidden Layer 2\n",
    "weight_meta_h2 = tf.Variable(tf.truncated_normal([hidden_meta_h1_size, hidden_meta_h2_size]))  #[bs, h1, h2]\n",
    "bias_meta_h2 = tf.Variable(tf.constant(0.1, shape=[hidden_meta_h2_size]))  #[bs, h2]\n",
    "#x_meta_h2 = tf.matmul(meta_last, weight_meta_h2) + bias_meta_h2\n",
    "x_meta_h2 = tf.nn.relu(tf.matmul(x_meta_h1, weight_meta_h2) + bias_meta_h2)\n",
    "\n",
    "#Softmax Layer (final output)\n",
    "#Note the weight dimension changed from hidden_lstm_size to hidden_lstm_size + meta_dim\n",
    "#If use_meta = False, change size of weight_final and input to prediction\n",
    "weight_final = tf.Variable(tf.truncated_normal([hidden_meta_h2_size, int(target.get_shape()[1])]))  #[bs, hidden_meta_h1_size, 2]\n",
    "bias_final = tf.Variable(tf.constant(0.1, shape=[target.get_shape()[1]]))  #[bs, 2]\n",
    "prediction = tf.nn.softmax(tf.matmul(x_meta_h2, weight_final) + bias_final)\n",
    "\n",
    "#Loss Function\n",
    "cross_entropy = -tf.reduce_sum(target * tf.log(tf.clip_by_value(prediction,1e-10,1.0)))\n",
    "optimizer = tf.train.AdamOptimizer(learning_rate=lrn_rate, epsilon=ep)\n",
    "minimize = optimizer.minimize(cross_entropy)\n",
    "\n",
    "mistakes = tf.not_equal(tf.argmax(target, axis=1), tf.argmax(prediction, axis=1))\n",
    "error = tf.reduce_mean(tf.cast(mistakes, tf.float32))"
   ]
  },
  {
   "cell_type": "code",
   "execution_count": 31,
   "metadata": {
    "collapsed": false
   },
   "outputs": [
    {
     "name": "stdout",
     "output_type": "stream",
     "text": [
      "Number of batches: 290\n",
      "Processing batch 0.  Time elapsed: 0 seconds\n",
      "Processing batch 50.  Time elapsed: 76 seconds\n",
      "Processing batch 100.  Time elapsed: 150 seconds\n",
      "Processing batch 150.  Time elapsed: 224 seconds\n",
      "Processing batch 200.  Time elapsed: 299 seconds\n",
      "Processing batch 250.  Time elapsed: 373 seconds\n",
      "Epoch - 1: Error = 6.92%.  Time to train 1 epoch(s): 433 seconds\n",
      "Processing batch 0.  Time elapsed: 433 seconds\n",
      "Processing batch 50.  Time elapsed: 508 seconds\n",
      "Processing batch 100.  Time elapsed: 581 seconds\n",
      "Processing batch 150.  Time elapsed: 655 seconds\n",
      "Processing batch 200.  Time elapsed: 729 seconds\n",
      "Processing batch 250.  Time elapsed: 803 seconds\n",
      "Epoch - 2: Error = 3.07%.  Time to train 2 epoch(s): 863 seconds\n",
      "Processing batch 0.  Time elapsed: 863 seconds\n",
      "Processing batch 50.  Time elapsed: 937 seconds\n",
      "Processing batch 100.  Time elapsed: 1011 seconds\n",
      "Processing batch 150.  Time elapsed: 1085 seconds\n",
      "Processing batch 200.  Time elapsed: 1159 seconds\n",
      "Processing batch 250.  Time elapsed: 1233 seconds\n",
      "Epoch - 3: Error = 2.35%.  Time to train 3 epoch(s): 1293 seconds\n",
      "Processing batch 0.  Time elapsed: 1293 seconds\n",
      "Processing batch 50.  Time elapsed: 1367 seconds\n",
      "Processing batch 100.  Time elapsed: 1441 seconds\n",
      "Processing batch 150.  Time elapsed: 1515 seconds\n",
      "Processing batch 200.  Time elapsed: 1589 seconds\n",
      "Processing batch 250.  Time elapsed: 1662 seconds\n",
      "Epoch - 4: Error = 2.07%.  Time to train 4 epoch(s): 1723 seconds\n",
      "Processing batch 0.  Time elapsed: 1723 seconds\n",
      "Processing batch 50.  Time elapsed: 1797 seconds\n",
      "Processing batch 100.  Time elapsed: 1871 seconds\n",
      "Processing batch 150.  Time elapsed: 1945 seconds\n",
      "Processing batch 200.  Time elapsed: 2019 seconds\n",
      "Processing batch 250.  Time elapsed: 2093 seconds\n",
      "Epoch - 5: Error = 2.05%.  Time to train 5 epoch(s): 2155 seconds\n",
      "Processing batch 0.  Time elapsed: 2155 seconds\n",
      "Processing batch 50.  Time elapsed: 2233 seconds\n",
      "Processing batch 100.  Time elapsed: 2307 seconds\n",
      "Processing batch 150.  Time elapsed: 2381 seconds\n",
      "Processing batch 200.  Time elapsed: 2455 seconds\n",
      "Processing batch 250.  Time elapsed: 2530 seconds\n",
      "Epoch - 6: Error = 1.88%.  Time to train 6 epoch(s): 2591 seconds\n",
      "Processing batch 0.  Time elapsed: 2591 seconds\n",
      "Processing batch 50.  Time elapsed: 2665 seconds\n",
      "Processing batch 100.  Time elapsed: 2740 seconds\n",
      "Processing batch 150.  Time elapsed: 2814 seconds\n",
      "Processing batch 200.  Time elapsed: 2888 seconds\n",
      "Processing batch 250.  Time elapsed: 2962 seconds\n",
      "Epoch - 7: Error = 1.79%.  Time to train 7 epoch(s): 3023 seconds\n",
      "Processing batch 0.  Time elapsed: 3023 seconds\n",
      "Processing batch 50.  Time elapsed: 3097 seconds\n",
      "Processing batch 100.  Time elapsed: 3172 seconds\n",
      "Processing batch 150.  Time elapsed: 3246 seconds\n",
      "Processing batch 200.  Time elapsed: 3320 seconds\n",
      "Processing batch 250.  Time elapsed: 3394 seconds\n",
      "Epoch - 8: Error = 1.71%.  Time to train 8 epoch(s): 3455 seconds\n",
      "Processing batch 0.  Time elapsed: 3455 seconds\n",
      "Processing batch 50.  Time elapsed: 3529 seconds\n",
      "Processing batch 100.  Time elapsed: 3603 seconds\n",
      "Processing batch 150.  Time elapsed: 3677 seconds\n",
      "Processing batch 200.  Time elapsed: 3751 seconds\n",
      "Processing batch 250.  Time elapsed: 3825 seconds\n",
      "Epoch - 9: Error = 1.67%.  Time to train 9 epoch(s): 3886 seconds\n",
      "Processing batch 0.  Time elapsed: 3886 seconds\n",
      "Processing batch 50.  Time elapsed: 3960 seconds\n",
      "Processing batch 100.  Time elapsed: 4034 seconds\n",
      "Processing batch 150.  Time elapsed: 4108 seconds\n",
      "Processing batch 200.  Time elapsed: 4182 seconds\n",
      "Processing batch 250.  Time elapsed: 4257 seconds\n",
      "Epoch - 10: Error = 1.57%.  Time to train 10 epoch(s): 4318 seconds\n",
      "Processing batch 0.  Time elapsed: 4318 seconds\n",
      "Processing batch 50.  Time elapsed: 4392 seconds\n",
      "Processing batch 100.  Time elapsed: 4466 seconds\n",
      "Processing batch 150.  Time elapsed: 4540 seconds\n",
      "Processing batch 200.  Time elapsed: 4615 seconds\n",
      "Processing batch 250.  Time elapsed: 4688 seconds\n",
      "Epoch - 11: Error = 1.56%.  Time to train 11 epoch(s): 4749 seconds\n",
      "Processing batch 0.  Time elapsed: 4749 seconds\n",
      "Processing batch 50.  Time elapsed: 4823 seconds\n",
      "Processing batch 100.  Time elapsed: 4897 seconds\n",
      "Processing batch 150.  Time elapsed: 4971 seconds\n",
      "Processing batch 200.  Time elapsed: 5046 seconds\n",
      "Processing batch 250.  Time elapsed: 5120 seconds\n",
      "Epoch - 12: Error = 1.53%.  Time to train 12 epoch(s): 5181 seconds\n",
      "Processing batch 0.  Time elapsed: 5181 seconds\n",
      "Processing batch 50.  Time elapsed: 5255 seconds\n",
      "Processing batch 100.  Time elapsed: 5329 seconds\n",
      "Processing batch 150.  Time elapsed: 5404 seconds\n",
      "Processing batch 200.  Time elapsed: 5477 seconds\n",
      "Processing batch 250.  Time elapsed: 5552 seconds\n",
      "Epoch - 13: Error = 1.48%.  Time to train 13 epoch(s): 5613 seconds\n",
      "Processing batch 0.  Time elapsed: 5613 seconds\n",
      "Processing batch 50.  Time elapsed: 5686 seconds\n",
      "Processing batch 100.  Time elapsed: 5760 seconds\n",
      "Processing batch 150.  Time elapsed: 5834 seconds\n",
      "Processing batch 200.  Time elapsed: 5908 seconds\n",
      "Processing batch 250.  Time elapsed: 5983 seconds\n",
      "Epoch - 14: Error = 1.47%.  Time to train 14 epoch(s): 6044 seconds\n",
      "Processing batch 0.  Time elapsed: 6044 seconds\n",
      "Processing batch 50.  Time elapsed: 6117 seconds\n",
      "Processing batch 100.  Time elapsed: 6192 seconds\n",
      "Processing batch 150.  Time elapsed: 6266 seconds\n",
      "Processing batch 200.  Time elapsed: 6341 seconds\n",
      "Processing batch 250.  Time elapsed: 6415 seconds\n",
      "Epoch - 15: Error = 1.47%.  Time to train 15 epoch(s): 6475 seconds\n",
      "Processing batch 0.  Time elapsed: 6475 seconds\n",
      "Processing batch 50.  Time elapsed: 6550 seconds\n",
      "Processing batch 100.  Time elapsed: 6624 seconds\n",
      "Processing batch 150.  Time elapsed: 6698 seconds\n",
      "Processing batch 200.  Time elapsed: 6772 seconds\n",
      "Processing batch 250.  Time elapsed: 6846 seconds\n",
      "Epoch - 16: Error = 1.49%.  Time to train 16 epoch(s): 6907 seconds\n",
      "Processing batch 0.  Time elapsed: 6907 seconds\n",
      "Processing batch 50.  Time elapsed: 6981 seconds\n",
      "Processing batch 100.  Time elapsed: 7055 seconds\n",
      "Processing batch 150.  Time elapsed: 7129 seconds\n",
      "Processing batch 200.  Time elapsed: 7203 seconds\n",
      "Processing batch 250.  Time elapsed: 7278 seconds\n",
      "Epoch - 17: Error = 1.48%.  Time to train 17 epoch(s): 7339 seconds\n",
      "Processing batch 0.  Time elapsed: 7339 seconds\n",
      "Processing batch 50.  Time elapsed: 7413 seconds\n",
      "Processing batch 100.  Time elapsed: 7487 seconds\n",
      "Processing batch 150.  Time elapsed: 7561 seconds\n",
      "Processing batch 200.  Time elapsed: 7635 seconds\n",
      "Processing batch 250.  Time elapsed: 7709 seconds\n",
      "Epoch - 18: Error = 1.43%.  Time to train 18 epoch(s): 7770 seconds\n",
      "Processing batch 0.  Time elapsed: 7770 seconds\n",
      "Processing batch 50.  Time elapsed: 7844 seconds\n",
      "Processing batch 100.  Time elapsed: 7918 seconds\n",
      "Processing batch 150.  Time elapsed: 7992 seconds\n",
      "Processing batch 200.  Time elapsed: 8066 seconds\n",
      "Processing batch 250.  Time elapsed: 8141 seconds\n",
      "Epoch - 19: Error = 1.41%.  Time to train 19 epoch(s): 8202 seconds\n",
      "Processing batch 0.  Time elapsed: 8202 seconds\n",
      "Processing batch 50.  Time elapsed: 8276 seconds\n",
      "Processing batch 100.  Time elapsed: 8350 seconds\n",
      "Processing batch 150.  Time elapsed: 8424 seconds\n",
      "Processing batch 200.  Time elapsed: 8498 seconds\n",
      "Processing batch 250.  Time elapsed: 8572 seconds\n",
      "Epoch - 20: Error = 1.40%.  Time to train 20 epoch(s): 8633 seconds\n",
      "Fetch numerous tensors for post hoc analysis ... done!\n",
      "Time to run cell: 8635 seconds\n"
     ]
    }
   ],
   "source": [
    "#Execute the model!\n",
    "time_start = timeit.default_timer()\n",
    "\n",
    "init_op = tf.global_variables_initializer()\n",
    "sess = tf.Session()\n",
    "sess.run(init_op)\n",
    "\n",
    "no_of_batches = int(cutoff_train_dev/batch_size)\n",
    "status_every = 50\n",
    "print(\"Number of batches: {}\".format(no_of_batches))\n",
    "for i in range(epoch):\n",
    "    ptr = 0\n",
    "    batch_num = 1\n",
    "    for j in range(no_of_batches):\n",
    "        batch_num+=1\n",
    "        \n",
    "        ##### BUILD THE EMBEDDINGS PER BATCH HERE #####\n",
    "        #train_data [bs, 99.5pct_length, embed_dim] = [bs, 40, 50]\n",
    "        #train_labels [bs, 2]\n",
    "        #seq_lens_batch = [bs]\n",
    "        #meta_inp = [bs, meta_dim] = [bs, 7 or 11]\n",
    "        \n",
    "        if j%status_every == 0:\n",
    "            time_batch = timeit.default_timer()\n",
    "            print('Processing batch {:,}.  Time elapsed: {:.0f} seconds'.format(j, time_batch - time_start))\n",
    "        \n",
    "        ######## LATER, PUT THESE DIRECTLY INTO THE FEED DICT ... THIS PART SEEMS WASTED #########\n",
    "        inp = embed_batch(token_list[ptr:ptr+batch_size])\n",
    "        out = targ_hot[ptr:ptr+batch_size]\n",
    "        seq_lens_batch = sequence_lens[ptr:ptr+batch_size]\n",
    "        meta_inp = metadata[ptr:ptr+batch_size]\n",
    "        \n",
    "        ptr+=batch_size\n",
    "        #feed_dict format = {tensor_name: data, tensor_name2: data2, etc.}\n",
    "        sess.run(\n",
    "            minimize,\n",
    "            feed_dict=\n",
    "            {\n",
    "                data: inp,\n",
    "                target: out,\n",
    "                seq_lens: seq_lens_batch,\n",
    "                meta: meta_inp\n",
    "            }\n",
    "        )\n",
    "    \n",
    "    print(\"Epoch -\", str(i + 1), end='')\n",
    "    incorrect = sess.run(error, {data: embed_batch(token_list[cutoff_train_dev:cutoff_dev_test]), \n",
    "                                 target: targ_hot[cutoff_train_dev:cutoff_dev_test], \n",
    "                                 seq_lens: sequence_lens[cutoff_train_dev:cutoff_dev_test], \n",
    "                                 meta: metadata[cutoff_train_dev:cutoff_dev_test]\n",
    "                                })    \n",
    "    print(': Error = {:3.2f}%.  '.format(100 * incorrect), end='')\n",
    "    \n",
    "    #Timing\n",
    "    time_epoch = timeit.default_timer()\n",
    "    print('Time to train {} epoch(s): {:.0f} seconds'.format(i+1, time_epoch - time_start))\n",
    "\n",
    "#Running this at the end to manually test accuracy\n",
    "#Recall, preds is a softmax, so floats, not ints\n",
    "print('Fetch numerous tensors for post hoc analysis ... ', end='')\n",
    "\n",
    "preds, targs = \\\n",
    "    sess.run([prediction, target], \n",
    "             {data: embed_batch(token_list[cutoff_dev_test:cutoff_test_end]),\n",
    "              target: targ_hot[cutoff_dev_test:cutoff_test_end],\n",
    "              seq_lens: sequence_lens[cutoff_dev_test:cutoff_test_end],\n",
    "              meta: metadata[cutoff_dev_test:cutoff_test_end]\n",
    "             })\n",
    "            \n",
    "print('done!')\n",
    "\n",
    "sess.close()\n",
    "\n",
    "#Timing\n",
    "time_end = timeit.default_timer()\n",
    "print('Time to run cell: {:.0f} seconds'.format(time_end - time_start))"
   ]
  },
  {
   "cell_type": "markdown",
   "metadata": {},
   "source": [
    "## Results Analysis"
   ]
  },
  {
   "cell_type": "code",
   "execution_count": 32,
   "metadata": {
    "collapsed": false
   },
   "outputs": [
    {
     "name": "stdout",
     "output_type": "stream",
     "text": [
      "Test Set Accuracy: 98.66%, Error: 1.34%\n"
     ]
    }
   ],
   "source": [
    "#Manual accuracy check with test data!\n",
    "test_range = cutoff_test_end - cutoff_dev_test\n",
    "correct = 0\n",
    "for i in range(test_range):\n",
    "    if int(preds[i][0]+0.5) == int(targs[i][0]):\n",
    "        correct += 1\n",
    "        \n",
    "print('Test Set Accuracy: {:.2%}, Error: {:.2%}'.format(correct / test_range, 1 - (correct / test_range) ))"
   ]
  },
  {
   "cell_type": "code",
   "execution_count": 33,
   "metadata": {
    "collapsed": false
   },
   "outputs": [
    {
     "name": "stdout",
     "output_type": "stream",
     "text": [
      "Genuine Tweets: 2739953\n",
      "Troll Tweets: 200047\n",
      "(20000, 2)\n",
      "(20000, 2)\n",
      "[[9.9212122e-01 7.8787524e-03]\n",
      " [1.0000000e+00 8.8117131e-09]\n",
      " [9.9983191e-01 1.6807513e-04]\n",
      " [9.9999499e-01 5.0598819e-06]\n",
      " [9.9758446e-01 2.4155015e-03]]\n",
      "[[1. 0.]\n",
      " [1. 0.]\n",
      " [1. 0.]\n",
      " [1. 0.]\n",
      " [1. 0.]]\n"
     ]
    }
   ],
   "source": [
    "print('Genuine Tweets: {}'.format(cutoff_test_end - np.sum(arr_targetdata[0:cutoff_test_end]) ))\n",
    "print('Troll Tweets: {}'.format(np.sum(arr_targetdata[0:cutoff_test_end])))\n",
    "\n",
    "print(preds.shape)\n",
    "print(targs.shape)\n",
    "print(preds[0:5])\n",
    "print(targs[0:5])"
   ]
  },
  {
   "cell_type": "code",
   "execution_count": null,
   "metadata": {
    "collapsed": true
   },
   "outputs": [],
   "source": []
  }
 ],
 "metadata": {
  "kernelspec": {
   "display_name": "Python 3",
   "language": "python",
   "name": "python3"
  },
  "language_info": {
   "codemirror_mode": {
    "name": "ipython",
    "version": 3
   },
   "file_extension": ".py",
   "mimetype": "text/x-python",
   "name": "python",
   "nbconvert_exporter": "python",
   "pygments_lexer": "ipython3",
   "version": "3.5.1"
  }
 },
 "nbformat": 4,
 "nbformat_minor": 2
}
